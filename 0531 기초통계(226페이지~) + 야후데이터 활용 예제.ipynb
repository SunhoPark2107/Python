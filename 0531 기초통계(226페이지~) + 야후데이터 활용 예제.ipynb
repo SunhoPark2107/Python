{
 "cells": [
  {
   "cell_type": "code",
   "execution_count": 2,
   "id": "253a62c2",
   "metadata": {},
   "outputs": [
    {
     "name": "stdout",
     "output_type": "stream",
     "text": [
      "mean: 0    12.0\n",
      "dtype: float64\n",
      "median: 0    3.0\n",
      "dtype: float64\n"
     ]
    }
   ],
   "source": [
    "import pandas as pd\n",
    "data = [1, 2, 3, 4, 50]\n",
    "df1 = pd.DataFrame(data)\n",
    "print(\"mean:\", df1.mean())\n",
    "print(\"median:\", df1.median())\n"
   ]
  },
  {
   "cell_type": "code",
   "execution_count": null,
   "id": "3136c9c4",
   "metadata": {},
   "outputs": [],
   "source": [
    "# 상관계수와 공분산 검색해서 따로 더 공부하기! 데이터 분석에 있어서 지속적으로 쓰이는 개념이다. "
   ]
  },
  {
   "cell_type": "code",
   "execution_count": 3,
   "id": "97415b04",
   "metadata": {},
   "outputs": [
    {
     "name": "stdout",
     "output_type": "stream",
     "text": [
      "[[0.   0.  ]\n",
      " [0.25 0.25]\n",
      " [0.5  0.5 ]\n",
      " [1.   1.  ]]\n"
     ]
    },
    {
     "data": {
      "text/html": [
       "<div>\n",
       "<style scoped>\n",
       "    .dataframe tbody tr th:only-of-type {\n",
       "        vertical-align: middle;\n",
       "    }\n",
       "\n",
       "    .dataframe tbody tr th {\n",
       "        vertical-align: top;\n",
       "    }\n",
       "\n",
       "    .dataframe thead th {\n",
       "        text-align: right;\n",
       "    }\n",
       "</style>\n",
       "<table border=\"1\" class=\"dataframe\">\n",
       "  <thead>\n",
       "    <tr style=\"text-align: right;\">\n",
       "      <th></th>\n",
       "      <th>a</th>\n",
       "      <th>b</th>\n",
       "      <th>a_mms</th>\n",
       "      <th>b_mms</th>\n",
       "    </tr>\n",
       "  </thead>\n",
       "  <tbody>\n",
       "    <tr>\n",
       "      <th>0</th>\n",
       "      <td>-1.0</td>\n",
       "      <td>2</td>\n",
       "      <td>0.00</td>\n",
       "      <td>0.00</td>\n",
       "    </tr>\n",
       "    <tr>\n",
       "      <th>1</th>\n",
       "      <td>-0.5</td>\n",
       "      <td>6</td>\n",
       "      <td>0.25</td>\n",
       "      <td>0.25</td>\n",
       "    </tr>\n",
       "    <tr>\n",
       "      <th>2</th>\n",
       "      <td>0.0</td>\n",
       "      <td>10</td>\n",
       "      <td>0.50</td>\n",
       "      <td>0.50</td>\n",
       "    </tr>\n",
       "    <tr>\n",
       "      <th>3</th>\n",
       "      <td>1.0</td>\n",
       "      <td>18</td>\n",
       "      <td>1.00</td>\n",
       "      <td>1.00</td>\n",
       "    </tr>\n",
       "  </tbody>\n",
       "</table>\n",
       "</div>"
      ],
      "text/plain": [
       "     a   b  a_mms  b_mms\n",
       "0 -1.0   2   0.00   0.00\n",
       "1 -0.5   6   0.25   0.25\n",
       "2  0.0  10   0.50   0.50\n",
       "3  1.0  18   1.00   1.00"
      ]
     },
     "execution_count": 3,
     "metadata": {},
     "output_type": "execute_result"
    }
   ],
   "source": [
    "# 기타 학습 => min-max scaling\n",
    "\n",
    "import pandas as pd\n",
    "from sklearn.preprocessing import MinMaxScaler\n",
    "data = [[-1, 2], [-0.5, 6], [0, 10], [1, 18]]\n",
    "df = pd.DataFrame(data, columns = ['a', 'b'])\n",
    "colnames = df.columns\n",
    "\n",
    "scaler = MinMaxScaler()\n",
    "\n",
    "# min-max 값 학습\n",
    "scaler.fit(df)\n",
    "\n",
    "# min-max scaling 수행\n",
    "print(scaler.transform(df))\n",
    "new_colnames = [i+ '_mms' for i in colnames]\n",
    "\n",
    "# dataframe으로 minmax scaling된 것과 변환전 데이터 같이 나타내기\n",
    "pd.concat([df, pd.DataFrame(scaler.fit_transform(df[colnames]), columns = new_colnames)], axis = 1)"
   ]
  },
  {
   "cell_type": "code",
   "execution_count": 32,
   "id": "55a4ddf5",
   "metadata": {},
   "outputs": [
    {
     "data": {
      "text/plain": [
       "[<matplotlib.lines.Line2D at 0x1e42f5326a0>]"
      ]
     },
     "execution_count": 32,
     "metadata": {},
     "output_type": "execute_result"
    },
    {
     "data": {
      "image/png": "[encoded data removed]",
      "text/plain": [
       "<Figure size 360x360 with 1 Axes>"
      ]
     },
     "metadata": {
      "needs_background": "light"
     },
     "output_type": "display_data"
    }
   ],
   "source": [
    "# 분산은 데이터가 퍼져 있는 정도이고, 공분산은 x와 y의 관계를 나타내는 지표가 된다.\n",
    "# 공분산\n",
    "import matplotlib.pyplot as plt\n",
    "plt.figure(figsize = (5, 5)) \n",
    "x = [8, 3, 6, 6, 9, 4, 3, 9, 3, 4]\n",
    "y = [6, 2, 4, 6, 10, 5, 1, 8, 4, 5]\n",
    "plt.plot(x, y, \"o\")"
   ]
  },
  {
   "cell_type": "code",
   "execution_count": 33,
   "id": "24d8bf90",
   "metadata": {},
   "outputs": [
    {
     "data": {
      "text/plain": [
       "array([[6.05555556, 5.61111111],\n",
       "       [5.61111111, 6.98888889]])"
      ]
     },
     "execution_count": 33,
     "metadata": {},
     "output_type": "execute_result"
    }
   ],
   "source": [
    "# 넘파이로 분산 구하는 공식.\n",
    "import numpy as np\n",
    "np.cov(x, y)     "
   ]
  },
  {
   "cell_type": "code",
   "execution_count": 34,
   "id": "9d5d013b",
   "metadata": {},
   "outputs": [
    {
     "name": "stdout",
     "output_type": "stream",
     "text": [
      "5.61111111111111\n"
     ]
    }
   ],
   "source": [
    "# 공분산 구하기\n",
    "covar = np.cov(x, y)[0, 1]\n",
    "print(covar)"
   ]
  },
  {
   "cell_type": "code",
   "execution_count": 35,
   "id": "0b16bb61",
   "metadata": {},
   "outputs": [
    {
     "data": {
      "text/plain": [
       "[<matplotlib.lines.Line2D at 0x1e42f585b20>]"
      ]
     },
     "execution_count": 35,
     "metadata": {},
     "output_type": "execute_result"
    },
    {
     "data": {
      "image/png": "[encoded data removed]",
      "text/plain": [
       "<Figure size 360x360 with 1 Axes>"
      ]
     },
     "metadata": {
      "needs_background": "light"
     },
     "output_type": "display_data"
    }
   ],
   "source": [
    "plt.figure(figsize = (5, 5)) \n",
    "x = np.random.random(10)\n",
    "y = np.random.random(10)\n",
    "plt.plot(x, y, \"o\")"
   ]
  },
  {
   "cell_type": "code",
   "execution_count": 36,
   "id": "bb40392a",
   "metadata": {},
   "outputs": [
    {
     "name": "stdout",
     "output_type": "stream",
     "text": [
      "-0.051355126989315346\n"
     ]
    }
   ],
   "source": [
    "covar = np.cov(x, y)[0, 1]\n",
    "print(covar)"
   ]
  },
  {
   "cell_type": "code",
   "execution_count": 38,
   "id": "b5af5b9f",
   "metadata": {},
   "outputs": [
    {
     "ename": "SyntaxError",
     "evalue": "invalid syntax (<ipython-input-38-83af9a178fc4>, line 2)",
     "output_type": "error",
     "traceback": [
      "\u001b[1;36m  File \u001b[1;32m\"<ipython-input-38-83af9a178fc4>\"\u001b[1;36m, line \u001b[1;32m2\u001b[0m\n\u001b[1;33m    conda install pandas-datareader\u001b[0m\n\u001b[1;37m          ^\u001b[0m\n\u001b[1;31mSyntaxError\u001b[0m\u001b[1;31m:\u001b[0m invalid syntax\n"
     ]
    }
   ],
   "source": [
    "# page 229"
   ]
  },
  {
   "cell_type": "code",
   "execution_count": 39,
   "id": "0df99ff4",
   "metadata": {},
   "outputs": [],
   "source": [
    "# anaconda prompt 관리자 권한으로 실행해서 conda install pandas-datareader 쳐서 설치하면 됨.\n",
    "import pandas_datareader.data as web"
   ]
  },
  {
   "cell_type": "code",
   "execution_count": 45,
   "id": "657f2f2b",
   "metadata": {},
   "outputs": [],
   "source": [
    "all_data = {ticker: web.get_data_yahoo(ticker)\n",
    "           for ticker in [\"AAPL\", \"IBM\", \"MSFT\", \"GOOG\"]}\n",
    "price = pd.DataFrame({ticker: data['Adj Close']\n",
    "                      for ticker, data in all_data.items()})\n",
    "volume = pd.DataFrame({ticker: data['Volume']\n",
    "                      for ticker, data in all_data.items()})"
   ]
  },
  {
   "cell_type": "code",
   "execution_count": 49,
   "id": "bb716b59",
   "metadata": {},
   "outputs": [
    {
     "data": {
      "text/html": [
       "<div>\n",
       "<style scoped>\n",
       "    .dataframe tbody tr th:only-of-type {\n",
       "        vertical-align: middle;\n",
       "    }\n",
       "\n",
       "    .dataframe tbody tr th {\n",
       "        vertical-align: top;\n",
       "    }\n",
       "\n",
       "    .dataframe thead th {\n",
       "        text-align: right;\n",
       "    }\n",
       "</style>\n",
       "<table border=\"1\" class=\"dataframe\">\n",
       "  <thead>\n",
       "    <tr style=\"text-align: right;\">\n",
       "      <th></th>\n",
       "      <th>AAPL</th>\n",
       "      <th>IBM</th>\n",
       "      <th>MSFT</th>\n",
       "      <th>GOOG</th>\n",
       "    </tr>\n",
       "    <tr>\n",
       "      <th>Date</th>\n",
       "      <th></th>\n",
       "      <th></th>\n",
       "      <th></th>\n",
       "      <th></th>\n",
       "    </tr>\n",
       "  </thead>\n",
       "  <tbody>\n",
       "    <tr>\n",
       "      <th>2016-05-31</th>\n",
       "      <td>23.321924</td>\n",
       "      <td>123.099327</td>\n",
       "      <td>48.826679</td>\n",
       "      <td>735.719971</td>\n",
       "    </tr>\n",
       "    <tr>\n",
       "      <th>2016-06-01</th>\n",
       "      <td>22.994963</td>\n",
       "      <td>122.114479</td>\n",
       "      <td>48.688492</td>\n",
       "      <td>734.150024</td>\n",
       "    </tr>\n",
       "    <tr>\n",
       "      <th>2016-06-02</th>\n",
       "      <td>22.822144</td>\n",
       "      <td>122.907143</td>\n",
       "      <td>48.347626</td>\n",
       "      <td>730.400024</td>\n",
       "    </tr>\n",
       "    <tr>\n",
       "      <th>2016-06-03</th>\n",
       "      <td>22.868847</td>\n",
       "      <td>122.418724</td>\n",
       "      <td>47.711952</td>\n",
       "      <td>722.340027</td>\n",
       "    </tr>\n",
       "    <tr>\n",
       "      <th>2016-06-06</th>\n",
       "      <td>23.034662</td>\n",
       "      <td>122.290611</td>\n",
       "      <td>48.025192</td>\n",
       "      <td>716.549988</td>\n",
       "    </tr>\n",
       "  </tbody>\n",
       "</table>\n",
       "</div>"
      ],
      "text/plain": [
       "                 AAPL         IBM       MSFT        GOOG\n",
       "Date                                                    \n",
       "2016-05-31  23.321924  123.099327  48.826679  735.719971\n",
       "2016-06-01  22.994963  122.114479  48.688492  734.150024\n",
       "2016-06-02  22.822144  122.907143  48.347626  730.400024\n",
       "2016-06-03  22.868847  122.418724  47.711952  722.340027\n",
       "2016-06-06  23.034662  122.290611  48.025192  716.549988"
      ]
     },
     "execution_count": 49,
     "metadata": {},
     "output_type": "execute_result"
    }
   ],
   "source": [
    "price.head()"
   ]
  },
  {
   "cell_type": "code",
   "execution_count": 50,
   "id": "b6c0ca45",
   "metadata": {},
   "outputs": [
    {
     "data": {
      "text/html": [
       "<div>\n",
       "<style scoped>\n",
       "    .dataframe tbody tr th:only-of-type {\n",
       "        vertical-align: middle;\n",
       "    }\n",
       "\n",
       "    .dataframe tbody tr th {\n",
       "        vertical-align: top;\n",
       "    }\n",
       "\n",
       "    .dataframe thead th {\n",
       "        text-align: right;\n",
       "    }\n",
       "</style>\n",
       "<table border=\"1\" class=\"dataframe\">\n",
       "  <thead>\n",
       "    <tr style=\"text-align: right;\">\n",
       "      <th></th>\n",
       "      <th>AAPL</th>\n",
       "      <th>IBM</th>\n",
       "      <th>MSFT</th>\n",
       "      <th>GOOG</th>\n",
       "    </tr>\n",
       "    <tr>\n",
       "      <th>Date</th>\n",
       "      <th></th>\n",
       "      <th></th>\n",
       "      <th></th>\n",
       "      <th></th>\n",
       "    </tr>\n",
       "  </thead>\n",
       "  <tbody>\n",
       "    <tr>\n",
       "      <th>2016-05-31</th>\n",
       "      <td>169228800.0</td>\n",
       "      <td>5836600.0</td>\n",
       "      <td>37653100.0</td>\n",
       "      <td>2129500</td>\n",
       "    </tr>\n",
       "    <tr>\n",
       "      <th>2016-06-01</th>\n",
       "      <td>116693200.0</td>\n",
       "      <td>2663400.0</td>\n",
       "      <td>25324800.0</td>\n",
       "      <td>1253600</td>\n",
       "    </tr>\n",
       "    <tr>\n",
       "      <th>2016-06-02</th>\n",
       "      <td>160766400.0</td>\n",
       "      <td>2642600.0</td>\n",
       "      <td>22840800.0</td>\n",
       "      <td>1341800</td>\n",
       "    </tr>\n",
       "    <tr>\n",
       "      <th>2016-06-03</th>\n",
       "      <td>114019600.0</td>\n",
       "      <td>2328300.0</td>\n",
       "      <td>23368300.0</td>\n",
       "      <td>1226300</td>\n",
       "    </tr>\n",
       "    <tr>\n",
       "      <th>2016-06-06</th>\n",
       "      <td>93170000.0</td>\n",
       "      <td>2378700.0</td>\n",
       "      <td>18243300.0</td>\n",
       "      <td>1565300</td>\n",
       "    </tr>\n",
       "  </tbody>\n",
       "</table>\n",
       "</div>"
      ],
      "text/plain": [
       "                   AAPL        IBM        MSFT     GOOG\n",
       "Date                                                   \n",
       "2016-05-31  169228800.0  5836600.0  37653100.0  2129500\n",
       "2016-06-01  116693200.0  2663400.0  25324800.0  1253600\n",
       "2016-06-02  160766400.0  2642600.0  22840800.0  1341800\n",
       "2016-06-03  114019600.0  2328300.0  23368300.0  1226300\n",
       "2016-06-06   93170000.0  2378700.0  18243300.0  1565300"
      ]
     },
     "execution_count": 50,
     "metadata": {},
     "output_type": "execute_result"
    }
   ],
   "source": [
    "volume.head()"
   ]
  },
  {
   "cell_type": "code",
   "execution_count": null,
   "id": "29890e20",
   "metadata": {},
   "outputs": [],
   "source": []
  }
 ],
 "metadata": {
  "kernelspec": {
   "display_name": "Python 3",
   "language": "python",
   "name": "python3"
  },
  "language_info": {
   "codemirror_mode": {
    "name": "ipython",
    "version": 3
   },
   "file_extension": ".py",
   "mimetype": "text/x-python",
   "name": "python",
   "nbconvert_exporter": "python",
   "pygments_lexer": "ipython3",
   "version": "3.8.8"
  }
 },
 "nbformat": 4,
 "nbformat_minor": 5
}
