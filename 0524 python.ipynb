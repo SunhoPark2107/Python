{
 "cells": [
  {
   "cell_type": "code",
   "execution_count": 1,
   "id": "74b84cd1",
   "metadata": {},
   "outputs": [
    {
     "data": {
      "text/plain": [
       "True"
      ]
     },
     "execution_count": 1,
     "metadata": {},
     "output_type": "execute_result"
    }
   ],
   "source": [
    "1 in [1, 2, 3]"
   ]
  },
  {
   "cell_type": "code",
   "execution_count": 2,
   "id": "0ca07c57",
   "metadata": {},
   "outputs": [
    {
     "data": {
      "text/plain": [
       "False"
      ]
     },
     "execution_count": 2,
     "metadata": {},
     "output_type": "execute_result"
    }
   ],
   "source": [
    "4 in [1, 2, 3]"
   ]
  },
  {
   "cell_type": "code",
   "execution_count": 3,
   "id": "47bc66e3",
   "metadata": {},
   "outputs": [
    {
     "data": {
      "text/plain": [
       "True"
      ]
     },
     "execution_count": 3,
     "metadata": {},
     "output_type": "execute_result"
    }
   ],
   "source": [
    "4 not in [1, 2, 3]"
   ]
  },
  {
   "cell_type": "code",
   "execution_count": 7,
   "id": "97d7248b",
   "metadata": {},
   "outputs": [
    {
     "name": "stdout",
     "output_type": "stream",
     "text": [
      "a는 1\n",
      "a는 1\n"
     ]
    }
   ],
   "source": [
    "a = 1\n",
    "if a == 1: print (\"a는 1\")   # 조건문은 들여쓰기가 생명이나, 한 줄일 경우에 한하여는 줄바꿈 안 해 줘도 상관 없다.\n",
    "\n",
    "    \n",
    "if a == 1 : \n",
    "    print(\"a는 1\")"
   ]
  },
  {
   "cell_type": "code",
   "execution_count": 11,
   "id": "3cb8ab8c",
   "metadata": {},
   "outputs": [
    {
     "name": "stdout",
     "output_type": "stream",
     "text": [
      "a는 1\n",
      "good bye\n"
     ]
    }
   ],
   "source": [
    "a = 1\n",
    "if a == 1: print(\"a는 1\")\n",
    "print(\"good bye\")"
   ]
  },
  {
   "cell_type": "code",
   "execution_count": 4,
   "id": "186d7e49",
   "metadata": {},
   "outputs": [
    {
     "name": "stdout",
     "output_type": "stream",
     "text": [
      "나무를 0번 찍었습니다.\n",
      "나무를 1번 찍었습니다.\n",
      "나무를 2번 찍었습니다.\n",
      "나무를 3번 찍었습니다.\n",
      "나무를 4번 찍었습니다.\n",
      "나무를 5번 찍었습니다.\n",
      "나무를 6번 찍었습니다.\n",
      "나무를 7번 찍었습니다.\n",
      "나무를 8번 찍었습니다.\n",
      "나무를 9번 찍었습니다.\n",
      "나무를 10번 찍었습니다.\n",
      "나무 넘어갑니다\n"
     ]
    }
   ],
   "source": [
    "treeHit = 0           # 조건, 반복문에서 초기값 주는 것은 필수!!!\n",
    "while treeHit <= 10: \n",
    "    print(\"나무를 \" + str(treeHit) + \"번 찍었습니다.\")\n",
    "    if treeHit == 10: print(\"나무 넘어갑니다\")\n",
    "    treeHit += 1    # treeHit = treeHit + 1 과 같은 것. 구글에 \"할당연산자\"를 검색하여 보자.\n",
    "    \n",
    "# 130 페이지 확인해 보기.(\"나무를 0번 찍었습니다\"라는 말은 어색하니까.)"
   ]
  },
  {
   "cell_type": "code",
   "execution_count": null,
   "id": "75d4ec1a",
   "metadata": {},
   "outputs": [],
   "source": [
    "# R에서의 next함수는 파이썬에서 continue 함수.\n",
    "# 반복문은 항상 break, continue 등 조건 섬세하게 설정해 주면서 돌려야 한다."
   ]
  },
  {
   "cell_type": "code",
   "execution_count": 7,
   "id": "e7f7a945",
   "metadata": {},
   "outputs": [
    {
     "name": "stdout",
     "output_type": "stream",
     "text": [
      "정수를 입력하세요100\n",
      "101\n"
     ]
    }
   ],
   "source": [
    "a = input(\"정수를 입력하세요\") # input(\"안내메시지\")\n",
    "a = int(a) + 1                 # 위의 a 가 str으로 데이터 받아옴을 알 수 있음. 따라서 int(a)로 연산이 가능하도록 해 준다.\n",
    "print(a)"
   ]
  },
  {
   "cell_type": "code",
   "execution_count": 3,
   "id": "8f6893fe",
   "metadata": {},
   "outputs": [
    {
     "name": "stdout",
     "output_type": "stream",
     "text": [
      "온도를 입력하세요24\n",
      "온도를 입력하세요25\n",
      "온도를 입력하세요26\n",
      "온도를 입력하세요25\n",
      "[24, 25, 26, 25]\n"
     ]
    }
   ],
   "source": [
    "list_a = []\n",
    "count = 0\n",
    "while count < 4 :\n",
    "    recived = input(\"온도를 입력하세요\")\n",
    "    recived = int(recived)\n",
    "    list_a.append(recived)\n",
    "    count += 1\n",
    "print(list_a)"
   ]
  },
  {
   "cell_type": "code",
   "execution_count": 5,
   "id": "cd84bf5f",
   "metadata": {},
   "outputs": [
    {
     "name": "stdout",
     "output_type": "stream",
     "text": [
      "온도를 입력하세요. 단, 멈추려면 -500을 입력하세요.\n",
      "온도를 입력하세요23\n",
      "온도를 입력하세요24\n",
      "온도를 입력하세요25\n",
      "온도를 입력하세요26\n",
      "온도를 입력하세요22\n",
      "온도를 입력하세요24\n",
      "온도를 입력하세요26\n",
      "온도를 입력하세요27\n",
      "온도를 입력하세요-500\n",
      "[23, 24, 25, 26, 22, 24, 26, 27]\n"
     ]
    }
   ],
   "source": [
    "list_a = []\n",
    "count = 0\n",
    "print(\"온도를 입력하세요. 단, 멈추려면 -500을 입력하세요.\")    #  -500 입력하면 무한루프 빠져나올 수 있음.\n",
    "while True :\n",
    "    recieved = input(\"온도를 입력하세요\")\n",
    "    if recieved == \"-500\" : break              # input의 결과는 무조건 str이므로, \"\"붙여서 str으로 조건 주어야 함.\n",
    "    recieved = int(recieved)                   # 사실 이걸 if문 위에 주면 굳이 \"-500\"처럼 표현할 필요가 없긴 하다.\n",
    "    list_a.append(recieved)\n",
    "    count += 1\n",
    "print(list_a)"
   ]
  },
  {
   "cell_type": "code",
   "execution_count": 1,
   "id": "53a489c6",
   "metadata": {},
   "outputs": [
    {
     "name": "stdout",
     "output_type": "stream",
     "text": [
      "온도를 입력하세요. 단, 멈추려면 -500을 입력하세요.\n",
      "온도를 입력하세요5\n",
      "온도를 입력하세요6\n",
      "온도를 입력하세요7\n",
      "온도를 입력하세요8\n",
      "온도를 입력하세요5\n",
      "온도를 입력하세요6\n",
      "온도를 입력하세요7\n",
      "온도를 입력하세요100\n",
      "온도를 입력하세요6\n",
      "온도를 입력하세요7\n",
      "온도를 입력하세요-500\n",
      "[5, 6, 7, 8, 5, 6, 7, 6, 7]\n"
     ]
    }
   ],
   "source": [
    "list_a = []\n",
    "count = 0\n",
    "print(\"온도를 입력하세요. 단, 멈추려면 -500을 입력하세요.\")    #  -500 입력하면 무한루프 빠져나올 수 있음.\n",
    "while True :\n",
    "    recieved = input(\"온도를 입력하세요\")\n",
    "    recieved = int(recieved)\n",
    "    if recieved == -500 : break\n",
    "    if recieved > 50 or recieved < -40 : continue   # continue 는 pass의 의미. \n",
    "    list_a.append(recieved)\n",
    "    count += 1\n",
    "print(list_a)"
   ]
  },
  {
   "cell_type": "code",
   "execution_count": 2,
   "id": "79d5b666",
   "metadata": {},
   "outputs": [
    {
     "name": "stdout",
     "output_type": "stream",
     "text": [
      "range(0, 10)\n"
     ]
    }
   ],
   "source": [
    "# p. 140, for loop\n",
    "a = range(10)\n",
    "print(a)"
   ]
  },
  {
   "cell_type": "code",
   "execution_count": 5,
   "id": "6f25a060",
   "metadata": {},
   "outputs": [
    {
     "name": "stdout",
     "output_type": "stream",
     "text": [
      "0 1 2 3 4 5 6 7 8 9 "
     ]
    }
   ],
   "source": [
    "for i in range(10) :\n",
    "    print(i, end=\" \")    #  end = \" \"를 안 해 주면 하나 데이터마다 줄바뀜(디폴트가 end = \"\\n\"임.)"
   ]
  },
  {
   "cell_type": "code",
   "execution_count": 6,
   "id": "5e514051",
   "metadata": {},
   "outputs": [
    {
     "name": "stdout",
     "output_type": "stream",
     "text": [
      "5 6 7 8 9 "
     ]
    }
   ],
   "source": [
    "for i in range(5, 10) :\n",
    "    print(i, end=\" \")    # range 시작, 끝에서 끝 자리는 포함되지 않는다."
   ]
  },
  {
   "cell_type": "code",
   "execution_count": 8,
   "id": "97ea76df",
   "metadata": {},
   "outputs": [
    {
     "name": "stdout",
     "output_type": "stream",
     "text": [
      "1 3 5 7 9 "
     ]
    }
   ],
   "source": [
    "for i in range(1, 11, 2) :   # range(시작자리, 끝 자리, 간격)\n",
    "    print(i, end = \" \")"
   ]
  },
  {
   "cell_type": "code",
   "execution_count": 11,
   "id": "d79e3467",
   "metadata": {},
   "outputs": [
    {
     "name": "stdout",
     "output_type": "stream",
     "text": [
      "10 9 8 7 6 5 4 3 2 1 "
     ]
    }
   ],
   "source": [
    "for i in range(10, 0, -1):   # 역순으로 수 세기(count down). (복잡하게 하지 말고 이게 제일 쉬운 방법.)\n",
    "    print(i, end = \" \")"
   ]
  },
  {
   "cell_type": "code",
   "execution_count": null,
   "id": "ddee3ea4",
   "metadata": {},
   "outputs": [],
   "source": []
  }
 ],
 "metadata": {
  "kernelspec": {
   "display_name": "Python 3",
   "language": "python",
   "name": "python3"
  },
  "language_info": {
   "codemirror_mode": {
    "name": "ipython",
    "version": 3
   },
   "file_extension": ".py",
   "mimetype": "text/x-python",
   "name": "python",
   "nbconvert_exporter": "python",
   "pygments_lexer": "ipython3",
   "version": "3.8.8"
  }
 },
 "nbformat": 4,
 "nbformat_minor": 5
}
