{
 "cells": [
  {
   "cell_type": "code",
   "execution_count": 1,
   "id": "74b84cd1",
   "metadata": {},
   "outputs": [
    {
     "data": {
      "text/plain": [
       "True"
      ]
     },
     "execution_count": 1,
     "metadata": {},
     "output_type": "execute_result"
    }
   ],
   "source": [
    "1 in [1, 2, 3]"
   ]
  },
  {
   "cell_type": "code",
   "execution_count": 2,
   "id": "ac0a0cbe",
   "metadata": {},
   "outputs": [
    {
     "data": {
      "text/plain": [
       "False"
      ]
     },
     "execution_count": 2,
     "metadata": {},
     "output_type": "execute_result"
    }
   ],
   "source": [
    "4 in [1, 2, 3]"
   ]
  },
  {
   "cell_type": "code",
   "execution_count": 3,
   "id": "d36c1cc8",
   "metadata": {},
   "outputs": [
    {
     "data": {
      "text/plain": [
       "True"
      ]
     },
     "execution_count": 3,
     "metadata": {},
     "output_type": "execute_result"
    }
   ],
   "source": [
    "4 not in [1, 2, 3]"
   ]
  },
  {
   "cell_type": "code",
   "execution_count": 7,
   "id": "7754ac15",
   "metadata": {},
   "outputs": [
    {
     "name": "stdout",
     "output_type": "stream",
     "text": [
      "a는 1\n",
      "a는 1\n"
     ]
    }
   ],
   "source": [
    "a = 1\n",
    "if a == 1: print (\"a는 1\")   # 조건문은 들여쓰기가 생명이나, 한 줄일 경우에 한하여는 줄바꿈 안 해 줘도 상관 없다.\n",
    "\n",
    "    \n",
    "if a == 1 : \n",
    "    print(\"a는 1\")"
   ]
  },
  {
   "cell_type": "code",
   "execution_count": 11,
   "id": "80fd36cc",
   "metadata": {},
   "outputs": [
    {
     "name": "stdout",
     "output_type": "stream",
     "text": [
      "a는 1\n",
      "good bye\n"
     ]
    }
   ],
   "source": [
    "c"
   ]
  },
  {
   "cell_type": "code",
   "execution_count": 4,
   "id": "4cbcacfa",
   "metadata": {},
   "outputs": [
    {
     "name": "stdout",
     "output_type": "stream",
     "text": [
      "나무를 0번 찍었습니다.\n",
      "나무를 1번 찍었습니다.\n",
      "나무를 2번 찍었습니다.\n",
      "나무를 3번 찍었습니다.\n",
      "나무를 4번 찍었습니다.\n",
      "나무를 5번 찍었습니다.\n",
      "나무를 6번 찍었습니다.\n",
      "나무를 7번 찍었습니다.\n",
      "나무를 8번 찍었습니다.\n",
      "나무를 9번 찍었습니다.\n",
      "나무를 10번 찍었습니다.\n",
      "나무 넘어갑니다\n"
     ]
    }
   ],
   "source": [
    "treeHit = 0           # 조건, 반복문에서 초기값 주는 것은 필수!!!\n",
    "while treeHit <= 10: \n",
    "    print(\"나무를 \" + str(treeHit) + \"번 찍었습니다.\")\n",
    "    if treeHit == 10: print(\"나무 넘어갑니다\")\n",
    "    treeHit += 1    # treeHit = treeHit + 1 과 같은 것. 구글에 \"할당연산자\"를 검색하여 보자.\n",
    "    \n",
    "# 130 페이지 확인해 보기.(\"나무를 0번 찍었습니다\"라는 말은 어색하니까.)"
   ]
  },
  {
   "cell_type": "code",
   "execution_count": 31,
   "id": "43c44326",
   "metadata": {},
   "outputs": [
    {
     "name": "stdout",
     "output_type": "stream",
     "text": [
      "나무를 1번 찍었습니다.\n",
      "나무를 2번 찍었습니다.\n",
      "나무를 3번 찍었습니다.\n",
      "나무를 4번 찍었습니다.\n",
      "나무를 5번 찍었습니다.\n",
      "나무를 6번 찍었습니다.\n",
      "나무를 7번 찍었습니다.\n",
      "나무를 8번 찍었습니다.\n",
      "나무를 9번 찍었습니다.\n",
      "나무를 10번 찍었습니다.\n",
      "나무 넘어갑니다\n"
     ]
    }
   ],
   "source": [
    "treeHit = 1           # 1로 준 것은 \"나무를 0번 찍었습니다\" 라는 말은 어색하니까. treeHit 초기값은 해당 반복문에서 중요한 요소는 아니다.\n",
    "while treeHit <= 10: \n",
    "    print(\"나무를 \" + str(treeHit) + \"번 찍었습니다.\")\n",
    "    if treeHit == 10: print(\"나무 넘어갑니다\")\n",
    "    treeHit += 1    # treeHit = treeHit + 1 과 같은 것. 구글에 \"할당연산자\"를 검색하여 보자."
   ]
  },
  {
   "cell_type": "code",
   "execution_count": null,
   "id": "7525678c",
   "metadata": {},
   "outputs": [],
   "source": [
    "# R에서의 next함수는 파이썬에서 continue 함수.\n",
    "# 반복문은 항상 break, continue 등 조건 섬세하게 설정해 주면서 돌려야 한다."
   ]
  },
  {
   "cell_type": "code",
   "execution_count": 7,
   "id": "a0896de1",
   "metadata": {},
   "outputs": [
    {
     "name": "stdout",
     "output_type": "stream",
     "text": [
      "정수를 입력하세요100\n",
      "101\n"
     ]
    }
   ],
   "source": [
    "a = input(\"정수를 입력하세요\") # input(\"안내메시지\")\n",
    "a = int(a) + 1                 # 위의 a 가 str으로 데이터 받아옴을 알 수 있음. 따라서 int(a)로 연산이 가능하도록 해 준다.\n",
    "print(a)"
   ]
  },
  {
   "cell_type": "code",
   "execution_count": 3,
   "id": "a965c988",
   "metadata": {},
   "outputs": [
    {
     "name": "stdout",
     "output_type": "stream",
     "text": [
      "온도를 입력하세요24\n",
      "온도를 입력하세요25\n",
      "온도를 입력하세요26\n",
      "온도를 입력하세요25\n",
      "[24, 25, 26, 25]\n"
     ]
    }
   ],
   "source": [
    "list_a = []\n",
    "count = 0\n",
    "while count < 4 :\n",
    "    recived = input(\"온도를 입력하세요\")\n",
    "    recived = int(recived)\n",
    "    list_a.append(recived)\n",
    "    count += 1\n",
    "print(list_a)"
   ]
  },
  {
   "cell_type": "code",
   "execution_count": 5,
   "id": "1128232c",
   "metadata": {},
   "outputs": [
    {
     "name": "stdout",
     "output_type": "stream",
     "text": [
      "온도를 입력하세요. 단, 멈추려면 -500을 입력하세요.\n",
      "온도를 입력하세요23\n",
      "온도를 입력하세요24\n",
      "온도를 입력하세요25\n",
      "온도를 입력하세요26\n",
      "온도를 입력하세요22\n",
      "온도를 입력하세요24\n",
      "온도를 입력하세요26\n",
      "온도를 입력하세요27\n",
      "온도를 입력하세요-500\n",
      "[23, 24, 25, 26, 22, 24, 26, 27]\n"
     ]
    }
   ],
   "source": [
    "list_a = []\n",
    "count = 0\n",
    "print(\"온도를 입력하세요. 단, 멈추려면 -500을 입력하세요.\")    #  -500 입력하면 무한루프 빠져나올 수 있음.\n",
    "while True :\n",
    "    recieved = input(\"온도를 입력하세요\")\n",
    "    if recieved == \"-500\" : break              # input의 결과는 무조건 str이므로, \"\"붙여서 str으로 조건 주어야 함.\n",
    "    recieved = int(recieved)                   # 사실 이걸 if문 위에 주면 굳이 \"-500\"처럼 표현할 필요가 없긴 하다.\n",
    "    list_a.append(recieved)\n",
    "    count += 1\n",
    "print(list_a)"
   ]
  },
  {
   "cell_type": "code",
   "execution_count": 1,
   "id": "b3f74f1c",
   "metadata": {},
   "outputs": [
    {
     "name": "stdout",
     "output_type": "stream",
     "text": [
      "온도를 입력하세요. 단, 멈추려면 -500을 입력하세요.\n",
      "온도를 입력하세요5\n",
      "온도를 입력하세요6\n",
      "온도를 입력하세요7\n",
      "온도를 입력하세요8\n",
      "온도를 입력하세요5\n",
      "온도를 입력하세요6\n",
      "온도를 입력하세요7\n",
      "온도를 입력하세요100\n",
      "온도를 입력하세요6\n",
      "온도를 입력하세요7\n",
      "온도를 입력하세요-500\n",
      "[5, 6, 7, 8, 5, 6, 7, 6, 7]\n"
     ]
    }
   ],
   "source": [
    "list_a = []\n",
    "count = 0\n",
    "print(\"온도를 입력하세요. 단, 멈추려면 -500을 입력하세요.\")    #  -500 입력하면 무한루프 빠져나올 수 있음.\n",
    "while True :\n",
    "    recieved = input(\"온도를 입력하세요\")\n",
    "    recieved = int(recieved)\n",
    "    if recieved == -500 : break\n",
    "    if recieved > 50 or recieved < -40 : continue   # continue 는 pass의 의미. \n",
    "    list_a.append(recieved)\n",
    "    count += 1\n",
    "print(list_a)"
   ]
  },
  {
   "cell_type": "code",
   "execution_count": 2,
   "id": "b9b26419",
   "metadata": {},
   "outputs": [
    {
     "name": "stdout",
     "output_type": "stream",
     "text": [
      "range(0, 10)\n"
     ]
    }
   ],
   "source": [
    "# p. 140, for loop\n",
    "a = range(10)    # range는 그냥 print하면 range로만 나오고 (형식 자체가 range 이기 때문에.) for loop 으로 하나하나씩 꺼내야 출력된다.\n",
    "print(a)"
   ]
  },
  {
   "cell_type": "code",
   "execution_count": 5,
   "id": "7be49313",
   "metadata": {},
   "outputs": [
    {
     "name": "stdout",
     "output_type": "stream",
     "text": [
      "0 1 2 3 4 5 6 7 8 9 "
     ]
    }
   ],
   "source": [
    "for i in range(10) :\n",
    "    print(i, end=\" \")    #  end = \" \"를 안 해 주면 하나 데이터마다 줄바뀜(디폴트가 end = \"\\n\"임.)"
   ]
  },
  {
   "cell_type": "code",
   "execution_count": 6,
   "id": "e365bfae",
   "metadata": {},
   "outputs": [
    {
     "name": "stdout",
     "output_type": "stream",
     "text": [
      "5 6 7 8 9 "
     ]
    }
   ],
   "source": [
    "for i in range(5, 10) :\n",
    "    print(i, end=\" \")    # range 시작, 끝에서 끝 자리는 포함되지 않는다."
   ]
  },
  {
   "cell_type": "code",
   "execution_count": 8,
   "id": "fc02da08",
   "metadata": {},
   "outputs": [
    {
     "name": "stdout",
     "output_type": "stream",
     "text": [
      "1 3 5 7 9 "
     ]
    }
   ],
   "source": [
    "for i in range(1, 11, 2) :   # range(시작자리, 끝 자리, 간격)\n",
    "    print(i, end = \" \")"
   ]
  },
  {
   "cell_type": "code",
   "execution_count": 11,
   "id": "ca6f01ab",
   "metadata": {},
   "outputs": [
    {
     "name": "stdout",
     "output_type": "stream",
     "text": [
      "10 9 8 7 6 5 4 3 2 1 "
     ]
    }
   ],
   "source": [
    "for i in range(10, 0, -1):   # 역순으로 수 세기(count down). (복잡하게 하지 말고 이게 제일 쉬운 방법.)\n",
    "    print(i, end = \" \")"
   ]
  },
  {
   "cell_type": "code",
   "execution_count": 12,
   "id": "e7c895d4",
   "metadata": {},
   "outputs": [
    {
     "name": "stdout",
     "output_type": "stream",
     "text": [
      "1 4 7 10 "
     ]
    }
   ],
   "source": [
    "for i in [1, 4, 7, 10] :     # i 설정 조건 복잡하게 걸지 말고 이렇게 하나하나 쓸 수도 있음. 하지만 활용도는 낮다.\n",
    "    print(i, end = \" \")"
   ]
  },
  {
   "cell_type": "code",
   "execution_count": 13,
   "id": "45cc832a",
   "metadata": {},
   "outputs": [
    {
     "name": "stdout",
     "output_type": "stream",
     "text": [
      "1 3 5 10 "
     ]
    }
   ],
   "source": [
    "a = [1, 3, 5, 10]   # i 조건을 리스트로도 활용할 수 있다.\n",
    "for i in a :\n",
    "    print(i, end = \" \")"
   ]
  },
  {
   "cell_type": "code",
   "execution_count": 15,
   "id": "f9fe3cd6",
   "metadata": {},
   "outputs": [
    {
     "name": "stdout",
     "output_type": "stream",
     "text": [
      "[3, 6, 9, 12] "
     ]
    }
   ],
   "source": [
    "a = [1, 2, 3, 4]\n",
    "res = []\n",
    "for num in a :\n",
    "    res.append(num*3)\n",
    "print(res, end = \" \")"
   ]
  },
  {
   "cell_type": "code",
   "execution_count": 16,
   "id": "fb519c36",
   "metadata": {},
   "outputs": [
    {
     "name": "stdout",
     "output_type": "stream",
     "text": [
      "[3, 6, 9, 12] "
     ]
    }
   ],
   "source": [
    "a = [1, 2, 3, 4]\n",
    "res = [num * 3 for num in a]    # 이런 형태로 쓰면 더 간결하다.\n",
    "print(res, end = \" \")"
   ]
  },
  {
   "cell_type": "code",
   "execution_count": 19,
   "id": "581041b4",
   "metadata": {},
   "outputs": [
    {
     "name": "stdout",
     "output_type": "stream",
     "text": [
      "[6, 12] "
     ]
    }
   ],
   "source": [
    "a = [1, 2, 3, 4]\n",
    "res = [num * 3 for num in a if num % 2 == 0]    # 안에 for 문이랑 if문까지 포함할 수 있음.\n",
    "print(res, end = \" \")"
   ]
  },
  {
   "cell_type": "code",
   "execution_count": 1,
   "id": "58043509",
   "metadata": {},
   "outputs": [
    {
     "ename": "SyntaxError",
     "evalue": "invalid syntax (<ipython-input-1-f04bb358ba5d>, line 4)",
     "output_type": "error",
     "traceback": [
      "\u001b[1;36m  File \u001b[1;32m\"<ipython-input-1-f04bb358ba5d>\"\u001b[1;36m, line \u001b[1;32m4\u001b[0m\n\u001b[1;33m    if num % 2 == 0\u001b[0m\n\u001b[1;37m                   ^\u001b[0m\n\u001b[1;31mSyntaxError\u001b[0m\u001b[1;31m:\u001b[0m invalid syntax\n"
     ]
    }
   ],
   "source": [
    "a = [1, 2, 3, 4]\n",
    "res = []\n",
    "for num in a :\n",
    "    if num % 2 == 0       # for, if 등 반복, 조건문에서는 \":\" 다 해 주어야 함.\n",
    "    res.append(num * 3)   # 들여쓰기! 안 되면 안 돌아감.\n",
    "print(res, end = \" \")"
   ]
  },
  {
   "cell_type": "code",
   "execution_count": 7,
   "id": "9ae63c03",
   "metadata": {
    "scrolled": true
   },
   "outputs": [
    {
     "name": "stdout",
     "output_type": "stream",
     "text": [
      "[6, 12] "
     ]
    }
   ],
   "source": [
    "a = [1, 2, 3, 4]\n",
    "res = []\n",
    "for num in a :\n",
    "    if num % 2 == 0 :\n",
    "        res.append(num * 3)   # 들여쓰기! 안 되면 안 돌아감.\n",
    "print(res, end = \" \")"
   ]
  },
  {
   "cell_type": "code",
   "execution_count": 20,
   "id": "b163e81f",
   "metadata": {},
   "outputs": [
    {
     "name": "stdout",
     "output_type": "stream",
     "text": [
      "+\n",
      "++\n",
      "+++\n",
      "++++\n",
      "+++++\n"
     ]
    }
   ],
   "source": [
    "i = 0                    # 초기값 잊지않기 항상항상~~~\n",
    "while True :\n",
    "    i +=1                # i 는 행 번호와 동시에 별의 개수를 의미.\n",
    "    if i > 5 : break\n",
    "    print( \"+\" * i)"
   ]
  },
  {
   "cell_type": "code",
   "execution_count": 29,
   "id": "eb6c5ae5",
   "metadata": {},
   "outputs": [
    {
     "name": "stdout",
     "output_type": "stream",
     "text": [
      "*\n",
      "**\n",
      "***\n",
      "****\n",
      "*****\n"
     ]
    }
   ],
   "source": [
    "# 중첩루프를 활용한 별그리기\n",
    "i = 0\n",
    "while True :\n",
    "    i += 1 \n",
    "    if i>5 : break\n",
    "    for j in range(i): # print(\"*\"*i)   j는 아무런 의미가 없는 , for문을 위한 허수(?) 이고, 한 번의 for 루프가 돌 때마다 별 하나씩을 프린트함. \n",
    "                                        # 만약, i가 3이라면, j in [0, 1, 2]이기 때문에 for loop은 3번 반복되게 되고, 별은 3개가 찍힘.\n",
    "                                        # while은 수직으로 뻗어나가고, for 루프는 가로로만 뻗어나감.(print 함수 end 디폴트 값은 \"\\n\"인데, end 값을 \"\"로 줬으므로 세로로 나가지 않음.)\n",
    "        print(\"*\", end = \"\")\n",
    "    print(\"\")"
   ]
  },
  {
   "cell_type": "code",
   "execution_count": 15,
   "id": "313650d8",
   "metadata": {},
   "outputs": [
    {
     "name": "stdout",
     "output_type": "stream",
     "text": [
      "79.0\n"
     ]
    }
   ],
   "source": [
    "A = [70, 60, 55, 75, 95, 90, 80, 80, 85, 100]\n",
    "total = 0\n",
    "for score in A :\n",
    "    total += score\n",
    "average = total / len(A)\n",
    "print(average)"
   ]
  },
  {
   "cell_type": "code",
   "execution_count": 1,
   "id": "c3453fe3",
   "metadata": {},
   "outputs": [
    {
     "name": "stdout",
     "output_type": "stream",
     "text": [
      "60 59 58 57 56 55 54 53 52 51 50 49 48 47 46 45 44 43 42 41 40 39 38 37 36 35 34 33 32 31 30 29 28 27 26 25 24 23 22 21 20 19 18 17 16 15 14 13 12 11 10 9 8 7 6 5 4 3 2 1 0 \n",
      "\n",
      "발사!\n"
     ]
    }
   ],
   "source": [
    "for i in range(60, -1, -1) :\n",
    "    print(i, end = \" \")\n",
    "print(\"\\n\\n발사!\")"
   ]
  },
  {
   "cell_type": "code",
   "execution_count": 5,
   "id": "f2bd9f07",
   "metadata": {},
   "outputs": [
    {
     "name": "stdout",
     "output_type": "stream",
     "text": [
      "59 58 57 56 55 54 53 52 51 50 49 48 47 46 45 44 43 42 41 40 39 38 37 36 35 34 33 32 31 30 29 28 27 26 25 24 23 22 21 20 19 18 17 16 15 14 13 12 11 10 9 8 7 6 5 4 3 2 1 0 \n",
      "\n",
      "발사!\n"
     ]
    }
   ],
   "source": [
    "i = 60\n",
    "while True :\n",
    "    i -= 1\n",
    "    print(i, end= \" \")\n",
    "    if i == 0 : break\n",
    "print(\"\\n\\n발사!\")\n",
    "\n",
    "# 돌린 결과가 무한루프라면, 1) session restart를 한번 돌려 본다. 2) 들여쓰기가 잘못되지 않았는지 확인해 본다."
   ]
  },
  {
   "cell_type": "code",
   "execution_count": 8,
   "id": "6c5b47a4",
   "metadata": {},
   "outputs": [
    {
     "name": "stdout",
     "output_type": "stream",
     "text": [
      "60 59 58 57 56 55 54 53 52 51 50 49 48 47 46 45 44 43 42 41 40 39 38 37 36 35 34 33 32 31 30 29 28 27 26 25 24 23 22 21 20 19 18 17 16 15 14 13 12 11 10 9 8 7 6 5 4 3 2 1 0 \n",
      "\n",
      "발사!\n"
     ]
    }
   ],
   "source": [
    "num = 60\n",
    "while num >= 0 :           # break 코드 안 짜고 num 범위 지정해 주면 더 간단하넹\n",
    "    print(num, end = \" \")\n",
    "    num -= 1\n",
    "print(\"\\n\\n발사!\")"
   ]
  },
  {
   "cell_type": "code",
   "execution_count": null,
   "id": "6757840c",
   "metadata": {},
   "outputs": [],
   "source": [
    "for i in range(1:10) :\n",
    "    "
   ]
  },
  {
   "cell_type": "code",
   "execution_count": 13,
   "id": "cee39ce7",
   "metadata": {
    "scrolled": true
   },
   "outputs": [
    {
     "name": "stdout",
     "output_type": "stream",
     "text": [
      "1 2 3 4 5 6 7 8 9 \n",
      "\n",
      "2 4 6 8 10 12 14 16 18 \n",
      "\n",
      "3 6 9 12 15 18 21 24 27 \n",
      "\n",
      "4 8 12 16 20 24 28 32 36 \n",
      "\n",
      "5 10 15 20 25 30 35 40 45 \n",
      "\n",
      "6 12 18 24 30 36 42 48 54 \n",
      "\n",
      "7 14 21 28 35 42 49 56 63 \n",
      "\n",
      "8 16 24 32 40 48 56 64 72 \n",
      "\n",
      "9 18 27 36 45 54 63 72 81 \n",
      "\n"
     ]
    }
   ],
   "source": [
    "i = 1\n",
    "while i <= 9:\n",
    "    for j in range(1,10) :\n",
    "        print(i * j, end = \" \")\n",
    "    i += 1\n",
    "    print('\\n')"
   ]
  },
  {
   "cell_type": "code",
   "execution_count": 22,
   "id": "9f0eeebf",
   "metadata": {},
   "outputs": [
    {
     "name": "stdout",
     "output_type": "stream",
     "text": [
      "1 2 3 4 5 6 7 8 9 \n",
      "2 4 6 8 10 12 14 16 18 \n",
      "3 6 9 12 15 18 21 24 27 \n",
      "4 8 12 16 20 24 28 32 36 \n",
      "5 10 15 20 25 30 35 40 45 \n",
      "6 12 18 24 30 36 42 48 54 \n",
      "7 14 21 28 35 42 49 56 63 \n",
      "8 16 24 32 40 48 56 64 72 \n",
      "9 18 27 36 45 54 63 72 81 \n"
     ]
    }
   ],
   "source": [
    "# 코드 line 위치도 들여쓰기처럼 중요함! 로직의 순서를 결정하는 것이므로. 위의 코드와 비교해 보면,\n",
    "# i += 1 이 for loop 위에 있으면 +1을 먼저 하는 것이므로 i = 0으로 잡아야 하고,\n",
    "# 만약 i += 1 이 for loop 아래에 있으면 while 반복문이 for loop 이후에 도는 것이므로 i = 1로 잡아야 함.\n",
    "# 조건, 반복문 에러는 주로! 들여쓰기 아니면 line 순서(=로직 오류) 때문에 생긴다!\n",
    "\n",
    "i = 0 \n",
    "while i <= 8:\n",
    "    i += 1\n",
    "    for j in range(1,10) :\n",
    "        print(i * j, end = \" \")\n",
    "    print('')"
   ]
  },
  {
   "cell_type": "code",
   "execution_count": 20,
   "id": "c0a62701",
   "metadata": {},
   "outputs": [
    {
     "name": "stdout",
     "output_type": "stream",
     "text": [
      "1 2 3 4 5 6 7 8 9 \n",
      "\n",
      "2 4 6 8 10 12 14 16 18 \n",
      "\n",
      "3 6 9 12 15 18 21 24 27 \n",
      "\n",
      "4 8 12 16 20 24 28 32 36 \n",
      "\n",
      "5 10 15 20 25 30 35 40 45 \n",
      "\n",
      "6 12 18 24 30 36 42 48 54 \n",
      "\n",
      "7 14 21 28 35 42 49 56 63 \n",
      "\n",
      "8 16 24 32 40 48 56 64 72 \n",
      "\n",
      "9 18 27 36 45 54 63 72 81 \n",
      "\n"
     ]
    }
   ],
   "source": [
    "for i in range(1,10) :\n",
    "    for j in range(1, 10):\n",
    "        print(i*j, end = \" \")\n",
    "    print(\"\\n\")"
   ]
  },
  {
   "cell_type": "code",
   "execution_count": 23,
   "id": "30122dfd",
   "metadata": {},
   "outputs": [
    {
     "name": "stdout",
     "output_type": "stream",
     "text": [
      "1 2 3 4 5 6 7 8 9 \n",
      "2 4 6 8 10 12 14 16 18 \n",
      "3 6 9 12 15 18 21 24 27 \n",
      "4 8 12 16 20 24 28 32 36 \n",
      "5 10 15 20 25 30 35 40 45 \n",
      "6 12 18 24 30 36 42 48 54 \n",
      "7 14 21 28 35 42 49 56 63 \n",
      "8 16 24 32 40 48 56 64 72 \n",
      "9 18 27 36 45 54 63 72 81 \n"
     ]
    }
   ],
   "source": [
    "# while은 초기값 정해주는게 제일 중요해~!\n",
    "\n",
    "hang = 1\n",
    "while hang <= 9:\n",
    "    yol = 1\n",
    "    while yol <= 9:\n",
    "        print(hang*yol, end = \" \")\n",
    "        yol += 1\n",
    "    print(\"\")\n",
    "    hang += 1"
   ]
  },
  {
   "cell_type": "code",
   "execution_count": null,
   "id": "8c07a0b3",
   "metadata": {},
   "outputs": [],
   "source": [
    "# 반복, 조건문 =>  사람이 이해하는 대로 차근차근 컴퓨터한테 설명해 주면 된다고 생각하면 됨!\n",
    "# 로직 쌓을 땐 차근차근 논리 순서대로!"
   ]
  },
  {
   "cell_type": "code",
   "execution_count": 34,
   "id": "9f45d02c",
   "metadata": {
    "scrolled": true
   },
   "outputs": [
    {
     "name": "stdout",
     "output_type": "stream",
     "text": [
      "1******\n",
      "2*****\n",
      "3****\n",
      "4***\n",
      "5**\n",
      "6*\n",
      "7\n"
     ]
    }
   ],
   "source": [
    "for i in range(1, 8) :\n",
    "    print(str(i) + (7-i)* \"*\")"
   ]
  },
  {
   "cell_type": "code",
   "execution_count": null,
   "id": "32e3a55d",
   "metadata": {},
   "outputs": [],
   "source": [
    "# range는 그냥 print하면 range로만 나오고 (형식 자체가 range 이기 때문에.) for loop 으로 하나하나씩 꺼내야 출력된다."
   ]
  },
  {
   "cell_type": "code",
   "execution_count": 85,
   "id": "1f2daf01",
   "metadata": {},
   "outputs": [
    {
     "name": "stdout",
     "output_type": "stream",
     "text": [
      "1 \n",
      "1 2 \n",
      "1 2 3 \n",
      "1 2 3 4 \n",
      "1 2 3 4 5 \n",
      "1 2 3 4 5 6 \n",
      "1 2 3 4 5 6 7 \n"
     ]
    }
   ],
   "source": [
    "for i in range(1, 8):\n",
    "    for j in range(1, i+1):\n",
    "        print(j, end = ' ')\n",
    "    print()"
   ]
  },
  {
   "cell_type": "code",
   "execution_count": 102,
   "id": "ef7a1cc0",
   "metadata": {},
   "outputs": [
    {
     "name": "stdout",
     "output_type": "stream",
     "text": [
      "1******\n",
      "\n",
      "12*****\n",
      "\n",
      "123****\n",
      "\n",
      "1234***\n",
      "\n",
      "12345**\n",
      "\n",
      "123456*\n",
      "\n",
      "1234567\n",
      "\n"
     ]
    }
   ],
   "source": [
    "for i in range(1, 8):\n",
    "    for j in range(1, i+1):\n",
    "        print(j, end = \"\")\n",
    "    print(\"*\" * (7-i))\n",
    "    print()"
   ]
  },
  {
   "cell_type": "code",
   "execution_count": 126,
   "id": "3ffde007",
   "metadata": {},
   "outputs": [
    {
     "name": "stdout",
     "output_type": "stream",
     "text": [
      "원하는 행 개수를 입력하세요10\n",
      "1*********\n",
      "\n",
      "12********\n",
      "\n",
      "123*******\n",
      "\n",
      "1234******\n",
      "\n",
      "12345*****\n",
      "\n",
      "123456****\n",
      "\n",
      "1234567***\n",
      "\n",
      "12345678**\n",
      "\n",
      "123456789*\n",
      "\n",
      "12345678910\n",
      "\n"
     ]
    }
   ],
   "source": [
    "row = int(input(\"원하는 행 개수를 입력하세요\"))\n",
    "for i in range(1, row+1):\n",
    "    for j in range(1, i+1):\n",
    "        print(j, end = \"\")\n",
    "    print(\"*\" * (row-i))\n",
    "    print(\"\")"
   ]
  },
  {
   "cell_type": "code",
   "execution_count": 124,
   "id": "dd8b98b4",
   "metadata": {},
   "outputs": [
    {
     "name": "stdout",
     "output_type": "stream",
     "text": [
      "1 * * * * * *  \n",
      "1 2 * * * * *  \n",
      "1 2 3 * * * *  \n",
      "1 2 3 4 * * *  \n",
      "1 2 3 4 5 * *  \n",
      "1 2 3 4 5 6 *  \n",
      "1 2 3 4 5 6 7  \n"
     ]
    }
   ],
   "source": [
    "# 선생님이랑 같이 문풀~\n",
    "\n",
    "for hang in range(1, 7+1) :\n",
    "    # 숫자 출력\n",
    "    for yol in range(1, hang+1):\n",
    "        print(yol, end = \" \")\n",
    "    # 별 출력\n",
    "    for yol in range(1, 8 - hang):\n",
    "        print(\"*\", end = \" \")\n",
    "    print(\" \")"
   ]
  },
  {
   "cell_type": "code",
   "execution_count": 129,
   "id": "b96bf1fb",
   "metadata": {},
   "outputs": [
    {
     "name": "stdout",
     "output_type": "stream",
     "text": [
      "몇 줄로 쓸래?10\n",
      "1 * * * * * * * * *  \n",
      "1 2 * * * * * * * *  \n",
      "1 2 3 * * * * * * *  \n",
      "1 2 3 4 * * * * * *  \n",
      "1 2 3 4 5 * * * * *  \n",
      "1 2 3 4 5 6 * * * *  \n",
      "1 2 3 4 5 6 7 * * *  \n",
      "1 2 3 4 5 6 7 8 * *  \n",
      "1 2 3 4 5 6 7 8 9 *  \n",
      "1 2 3 4 5 6 7 8 9 10  \n"
     ]
    }
   ],
   "source": [
    "num = int(input(\"몇 줄로 쓸래?\"))\n",
    "\n",
    "for hang in range(1, num+1) :\n",
    "    # 숫자 출력\n",
    "    for yol in range(1, hang+1):\n",
    "        print(yol, end = \" \")\n",
    "    # 별 출력\n",
    "    for yol in range(1, num + 1 - hang):\n",
    "        print(\"*\", end = \" \")\n",
    "    print(\" \")"
   ]
  },
  {
   "cell_type": "code",
   "execution_count": null,
   "id": "ceea8511",
   "metadata": {},
   "outputs": [],
   "source": []
  },
  {
   "cell_type": "code",
   "execution_count": null,
   "id": "2cb93a77",
   "metadata": {},
   "outputs": [],
   "source": []
  },
  {
   "cell_type": "code",
   "execution_count": null,
   "id": "6f118f26",
   "metadata": {},
   "outputs": [],
   "source": []
  },
  {
   "cell_type": "code",
   "execution_count": null,
   "id": "32397d34",
   "metadata": {},
   "outputs": [],
   "source": []
  },
  {
   "cell_type": "code",
   "execution_count": null,
   "id": "9907968e",
   "metadata": {},
   "outputs": [],
   "source": []
  },
  {
   "cell_type": "code",
   "execution_count": null,
   "id": "b8a26245",
   "metadata": {},
   "outputs": [],
   "source": []
  },
  {
   "cell_type": "code",
   "execution_count": null,
   "id": "0cce4474",
   "metadata": {},
   "outputs": [],
   "source": []
  }
 ],
 "metadata": {
  "kernelspec": {
   "display_name": "Python 3",
   "language": "python",
   "name": "python3"
  },
  "language_info": {
   "codemirror_mode": {
    "name": "ipython",
    "version": 3
   },
   "file_extension": ".py",
   "mimetype": "text/x-python",
   "name": "python",
   "nbconvert_exporter": "python",
   "pygments_lexer": "ipython3",
   "version": "3.8.8"
  }
 },
 "nbformat": 4,
 "nbformat_minor": 5
}
